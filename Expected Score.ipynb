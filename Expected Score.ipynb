{
 "cells": [
  {
   "cell_type": "markdown",
   "metadata": {},
   "source": [
    "# Expected Score Notebook\n",
    "## Date: January 4, 2021\n",
    "\n",
    "Purpose of this notebook is to look at the expected score of a turn based on the Score the player is rolling till."
   ]
  },
  {
   "cell_type": "code",
   "execution_count": 1,
   "metadata": {},
   "outputs": [],
   "source": [
    "## library imports\n",
    "\n",
    "import pandas as pd ## data manipulation\n",
    "import matplotlib.pyplot as plt ## for results plotting\n",
    "from collections import defaultdict ## for resultstoring\n",
    "from dice import ScoreBasedPlayer ## dice library\n"
   ]
  },
  {
   "cell_type": "code",
   "execution_count": 2,
   "metadata": {},
   "outputs": [],
   "source": [
    "scores_to_check = [50*i for i in range(1,20)] ## scores to loop through\n",
    "turns  = 10000 ## number of rolls to make \n",
    "expected_scores = defaultdict(float) ## for storing results"
   ]
  },
  {
   "cell_type": "code",
   "execution_count": 3,
   "metadata": {},
   "outputs": [
    {
     "data": {
      "text/plain": [
       "defaultdict(float,\n",
       "            {50: (87.25, 1.0),\n",
       "             100: (103.955, 1.2312),\n",
       "             150: (120.1, 1.5453),\n",
       "             200: (134.59, 1.7944),\n",
       "             250: (142.195, 2.0386),\n",
       "             300: (143.685, 2.2225),\n",
       "             350: (141.765, 2.3833),\n",
       "             400: (145.82, 2.568),\n",
       "             450: (140.055, 2.6633),\n",
       "             500: (136.915, 2.7876),\n",
       "             550: (130.695, 2.8769),\n",
       "             600: (126.68, 2.9533),\n",
       "             650: (119.485, 2.9987),\n",
       "             700: (111.7, 3.0843),\n",
       "             750: (112.14, 3.169),\n",
       "             800: (99.505, 3.1601),\n",
       "             850: (101.6, 3.2472),\n",
       "             900: (90.94, 3.2884),\n",
       "             950: (88.25, 3.3005)})"
      ]
     },
     "execution_count": 3,
     "metadata": {},
     "output_type": "execute_result"
    }
   ],
   "source": [
    "## loop through each score of interest \n",
    "\n",
    "for score in scores_to_check:\n",
    "    player = ScoreBasedPlayer(score,isin=True) ## create a player who will try and roll till the score of interest\n",
    "    for _ in range(turns): ## play turns number of turns \n",
    "        player.turn() ## play a turn \n",
    "    expected_scores[score] = (player.get_stats().TurnScores.mean(),player.get_stats().RollsTaken.mean()) ## calculate expected score \n",
    "    \n",
    "expected_scores"
   ]
  },
  {
   "cell_type": "code",
   "execution_count": 4,
   "metadata": {},
   "outputs": [
    {
     "data": {
      "image/png": "[encoded data removed]",
      "text/plain": [
       "<Figure size 720x360 with 1 Axes>"
      ]
     },
     "metadata": {
      "needs_background": "light"
     },
     "output_type": "display_data"
    }
   ],
   "source": [
    "## plot figure \n",
    "\n",
    "fig,ax = plt.subplots(1,figsize=(10,5))\n",
    "ax.scatter(expected_scores.keys(),[value[0] for value in expected_scores.values()],color=\"blue\",linewidth=2)\n",
    "ax.set_xlabel(\"Score Threshold\",fontweight='bold',fontsize=14)\n",
    "ax.set_ylabel(\"Expected Turn Score\",fontweight='bold',fontsize=14)\n",
    "ax.set_xticks(range(50,1000,50))\n",
    "plt.savefig(\"TurnExpectedScore.png\")\n",
    "plt.show()"
   ]
  },
  {
   "cell_type": "code",
   "execution_count": null,
   "metadata": {},
   "outputs": [],
   "source": []
  }
 ],
 "metadata": {
  "kernelspec": {
   "display_name": "Python 3",
   "language": "python",
   "name": "python3"
  },
  "language_info": {
   "codemirror_mode": {
    "name": "ipython",
    "version": 3
   },
   "file_extension": ".py",
   "mimetype": "text/x-python",
   "name": "python",
   "nbconvert_exporter": "python",
   "pygments_lexer": "ipython3",
   "version": "3.7.3"
  }
 },
 "nbformat": 4,
 "nbformat_minor": 4
}
