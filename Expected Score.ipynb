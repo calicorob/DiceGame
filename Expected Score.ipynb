{
 "cells": [
  {
   "cell_type": "markdown",
   "metadata": {},
   "source": [
    "# Expected Score Notebook\n",
    "## Author: Robert \n",
    "## Date: January 4, 2021\n",
    "\n",
    "Purpose of this notebook is to look at the expected score of a turn based on the Score the player is rolling till"
   ]
  },
  {
   "cell_type": "code",
   "execution_count": 21,
   "metadata": {},
   "outputs": [],
   "source": [
    "## library imports\n",
    "\n",
    "import pandas as pd ## data manipulation\n",
    "import matplotlib.pyplot as plt ## for results plotting\n",
    "from collections import defaultdict ## for resultstoring\n",
    "from dice import ScoreBasedPlayer ## dice library\n"
   ]
  },
  {
   "cell_type": "code",
   "execution_count": 19,
   "metadata": {},
   "outputs": [],
   "source": [
    "scores_to_check = [50*i for i in range(1,20)] ## scores to loop through\n",
    "turns  = 10000 ## number of rolls to make \n",
    "expected_scores = defaultdict(float) ## for storing results"
   ]
  },
  {
   "cell_type": "code",
   "execution_count": 38,
   "metadata": {},
   "outputs": [
    {
     "data": {
      "text/plain": [
       "defaultdict(float,\n",
       "            {50: (84.55, 1.0),\n",
       "             100: (102.35, 1.2251),\n",
       "             150: (123.04, 1.5585),\n",
       "             200: (136.665, 1.8136),\n",
       "             250: (138.715, 2.0507),\n",
       "             300: (144.375, 2.2399),\n",
       "             350: (145.69, 2.4147),\n",
       "             400: (139.985, 2.5301),\n",
       "             450: (140.055, 2.6736),\n",
       "             500: (135.375, 2.7774),\n",
       "             550: (131.15, 2.8669),\n",
       "             600: (123.72, 2.9572),\n",
       "             650: (120.9, 3.0387),\n",
       "             700: (114.72, 3.068),\n",
       "             750: (103.795, 3.1228),\n",
       "             800: (99.885, 3.1951),\n",
       "             850: (93.385, 3.2425),\n",
       "             900: (90.845, 3.2694),\n",
       "             950: (83.03, 3.2734)})"
      ]
     },
     "execution_count": 38,
     "metadata": {},
     "output_type": "execute_result"
    }
   ],
   "source": [
    "## loop through each score of interest \n",
    "\n",
    "for score in scores_to_check:\n",
    "    player = ScoreBasedPlayer(score,isin=True) ## create a player who will try and roll till the score of interest\n",
    "    for _ in range(turns): ## play turns number of turns \n",
    "        player.turn() ## play a turn \n",
    "    expected_scores[score] = (player.get_stats().TurnScores.mean(),player.get_stats().RollsTaken.mean()) ## calculate expected score \n",
    "    \n",
    "expected_scores"
   ]
  },
  {
   "cell_type": "code",
   "execution_count": 39,
   "metadata": {},
   "outputs": [
    {
     "data": {
      "image/png": "[encoded data removed]",
      "text/plain": [
       "<Figure size 720x360 with 1 Axes>"
      ]
     },
     "metadata": {
      "needs_background": "light"
     },
     "output_type": "display_data"
    }
   ],
   "source": [
    "fig,ax = plt.subplots(1,figsize=(10,5))\n",
    "ax.scatter(expected_scores.keys(),[value[0] for value in expected_scores.values()],color=\"blue\",linewidth=2)\n",
    "ax.set_xlabel(\"Score Threshold\",fontweight='bold',fontsize=14)\n",
    "ax.set_ylabel(\"Expected Turn Score\",fontweight='bold',fontsize=14)\n",
    "ax.set_xticks(range(50,1000,50))\n",
    "plt.savefig(\"TurnExpectedScore.png\")\n",
    "plt.show()"
   ]
  },
  {
   "cell_type": "code",
   "execution_count": null,
   "metadata": {},
   "outputs": [],
   "source": []
  }
 ],
 "metadata": {
  "kernelspec": {
   "display_name": "Python 3",
   "language": "python",
   "name": "python3"
  },
  "language_info": {
   "codemirror_mode": {
    "name": "ipython",
    "version": 3
   },
   "file_extension": ".py",
   "mimetype": "text/x-python",
   "name": "python",
   "nbconvert_exporter": "python",
   "pygments_lexer": "ipython3",
   "version": "3.7.9"
  }
 },
 "nbformat": 4,
 "nbformat_minor": 4
}
