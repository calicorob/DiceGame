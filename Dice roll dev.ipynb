{
 "cells": [
  {
   "cell_type": "code",
   "execution_count": 17,
   "metadata": {},
   "outputs": [],
   "source": [
    "import random\n",
    "import matplotlib.pyplot as plt\n",
    "from collections import defaultdict"
   ]
  },
  {
   "cell_type": "code",
   "execution_count": 9,
   "metadata": {},
   "outputs": [
    {
     "name": "stdout",
     "output_type": "stream",
     "text": [
      "4\n"
     ]
    }
   ],
   "source": [
    "class Dice(object):\n",
    "    def roll(self):\n",
    "        return random.randint(1,6)\n",
    "    \n",
    "die = Dice()\n",
    "\n",
    "print(die.roll())"
   ]
  },
  {
   "cell_type": "code",
   "execution_count": 16,
   "metadata": {},
   "outputs": [
    {
     "data": {
      "text/plain": [
       "defaultdict(int, {1: 1695, 4: 1619, 6: 1705, 2: 1661, 5: 1700, 3: 1620})"
      ]
     },
     "execution_count": 16,
     "metadata": {},
     "output_type": "execute_result"
    }
   ],
   "source": [
    "dice_rolls = defaultdict(int)\n",
    "\n",
    "for _ in range(10000):\n",
    "    num = random.randint(1,6)\n",
    "    dice_rolls[num] += 1\n",
    "    \n",
    "dice_rolls"
   ]
  },
  {
   "cell_type": "code",
   "execution_count": 20,
   "metadata": {},
   "outputs": [
    {
     "data": {
      "text/plain": [
       "<function matplotlib.pyplot.bar(x, height, width=0.8, bottom=None, *, align='center', data=None, **kwargs)>"
      ]
     },
     "execution_count": 20,
     "metadata": {},
     "output_type": "execute_result"
    }
   ],
   "source": [
    "plt.bar"
   ]
  },
  {
   "cell_type": "code",
   "execution_count": 27,
   "metadata": {},
   "outputs": [
    {
     "data": {
      "image/png": "[encoded data removed]",
      "text/plain": [
       "<Figure size 432x288 with 1 Axes>"
      ]
     },
     "metadata": {
      "needs_background": "light"
     },
     "output_type": "display_data"
    }
   ],
   "source": [
    "plt.bar(range(len(dice_rolls)),height = [rolls/10000 for rolls in dice_rolls.values()])\n",
    "plt.xticks(range(len(dice_rolls)),labels = dice_rolls.keys())\n",
    "plt.xlabel('Dice value',fontweight='bold')\n",
    "plt.ylabel('Probability',fontweight='bold')\n",
    "plt.show()"
   ]
  },
  {
   "cell_type": "code",
   "execution_count": 33,
   "metadata": {},
   "outputs": [],
   "source": [
    "scores = {\n",
    "    \n",
    "     1:100\n",
    "    ,2:0\n",
    "    ,3:0\n",
    "    ,4:0\n",
    "    ,5:50\n",
    "    ,6:0\n",
    "    \n",
    "    \n",
    "}"
   ]
  },
  {
   "cell_type": "code",
   "execution_count": 85,
   "metadata": {},
   "outputs": [],
   "source": [
    "class Player(object):\n",
    "    pid = 1\n",
    "    def __init__(self,turns):\n",
    "        self.pid = Player.pid\n",
    "        self.isin = False\n",
    "        self.score = 0\n",
    "        self.turns = turns\n",
    "        \n",
    "        Player.pid +=1 \n",
    "        \n",
    "    def __repr__(self):\n",
    "        return \"\".join(['pid: ',str(self.pid),\" score: \",str(self.score),\" default turns: \",str(self.turns)])\n",
    "    \n",
    "    def turn(self):\n",
    "        self.score += self.play()\n",
    "        \n",
    "    def play(self):\n",
    "        temp_score = 0\n",
    "        \n",
    "        if self.isin:\n",
    "            for turn in range(self.turns):\n",
    "                roll_score = self.check_score(self.rolls())\n",
    "                if roll_score == 0:\n",
    "                    return 0 \n",
    "                else:\n",
    "                    temp_score += roll_score\n",
    "                    \n",
    "            return temp_score\n",
    "\n",
    "            \n",
    "        else:\n",
    "            for turn in range(3):\n",
    "                temp_score += self.check_score(self.rolls())\n",
    "                \n",
    "            if temp_score >= 300:\n",
    "                self.isin = True\n",
    "                return temp_score\n",
    "            else:\n",
    "                return 0 \n",
    "        \n",
    "        \n",
    "    def roll(self):\n",
    "        return Dice().roll()\n",
    "    \n",
    "    def rolls(self):\n",
    "        return [self.roll() for _ in range(3)]\n",
    "    \n",
    "    def check_score(self,rolls):\n",
    "        sorted_rolls = sorted(rolls)\n",
    "        \n",
    "        if sorted_rolls[0] == sorted_rolls[-1]:\n",
    "            return sorted_rolls[0] * 100\n",
    "        else:\n",
    "            return sum([scores[roll] for roll in rolls])"
   ]
  },
  {
   "cell_type": "code",
   "execution_count": 86,
   "metadata": {},
   "outputs": [
    {
     "name": "stdout",
     "output_type": "stream",
     "text": [
      "False\n",
      "0\n",
      "False\n",
      "0\n",
      "False\n",
      "0\n",
      "True\n",
      "300\n"
     ]
    }
   ],
   "source": [
    "player = Player(3)\n",
    "\n",
    "player.turn()\n",
    "print(player.isin)\n",
    "print(player.score)\n",
    "\n",
    "player.turn()\n",
    "print(player.isin)\n",
    "print(player.score)\n",
    "\n",
    "player.turn()\n",
    "print(player.isin)\n",
    "print(player.score)\n",
    "\n",
    "player.turn()\n",
    "print(player.isin)\n",
    "print(player.score)\n"
   ]
  },
  {
   "cell_type": "code",
   "execution_count": 117,
   "metadata": {},
   "outputs": [],
   "source": [
    "class Game(object):\n",
    "    def __init__(self,players,final_score):\n",
    "        #self.players = [Player(random.randint(1,10)) for _ in range(num_players)]\n",
    "        self.players = players\n",
    "        self.final_score = final_score\n",
    "        self.winner = None\n",
    "        self.over = False\n",
    "        \n",
    "    def play(self):\n",
    "        while not self.over:\n",
    "            for player in self.players:\n",
    "                player.turn()\n",
    "                if player.score >= self.final_score:\n",
    "                    self.winner = player\n",
    "                    self.over = True\n",
    "                    return \n",
    "        "
   ]
  },
  {
   "cell_type": "code",
   "execution_count": 136,
   "metadata": {},
   "outputs": [
    {
     "name": "stdout",
     "output_type": "stream",
     "text": [
      "pid: 183 score: 5100 default turns: 4\n"
     ]
    },
    {
     "data": {
      "text/plain": [
       "[pid: 195 score: 300 default turns: 16,\n",
       " pid: 184 score: 2400 default turns: 5,\n",
       " pid: 197 score: 300 default turns: 18,\n",
       " pid: 186 score: 1050 default turns: 7,\n",
       " pid: 190 score: 300 default turns: 11,\n",
       " pid: 187 score: 2700 default turns: 8,\n",
       " pid: 181 score: 2900 default turns: 2,\n",
       " pid: 189 score: 1300 default turns: 10,\n",
       " pid: 191 score: 2200 default turns: 12,\n",
       " pid: 192 score: 300 default turns: 13,\n",
       " pid: 182 score: 2800 default turns: 3,\n",
       " pid: 185 score: 3150 default turns: 6,\n",
       " pid: 183 score: 5100 default turns: 4,\n",
       " pid: 180 score: 1500 default turns: 1,\n",
       " pid: 198 score: 300 default turns: 19,\n",
       " pid: 194 score: 300 default turns: 15,\n",
       " pid: 188 score: 1700 default turns: 9,\n",
       " pid: 193 score: 300 default turns: 14,\n",
       " pid: 196 score: 300 default turns: 17]"
      ]
     },
     "execution_count": 136,
     "metadata": {},
     "output_type": "execute_result"
    }
   ],
   "source": [
    "players = [Player(turns) for turns in range(1,20)]\n",
    "random.shuffle(players)\n",
    "game = Game(players,5000)\n",
    "game.play()\n",
    "print(game.winner)\n",
    "game.players"
   ]
  },
  {
   "cell_type": "code",
   "execution_count": 138,
   "metadata": {},
   "outputs": [
    {
     "data": {
      "text/plain": [
       "300"
      ]
     },
     "execution_count": 138,
     "metadata": {},
     "output_type": "execute_result"
    }
   ],
   "source": [
    "players[0].score"
   ]
  },
  {
   "cell_type": "code",
   "execution_count": 139,
   "metadata": {},
   "outputs": [
    {
     "data": {
      "text/plain": [
       "pid: 183 score: 5100 default turns: 4"
      ]
     },
     "execution_count": 139,
     "metadata": {},
     "output_type": "execute_result"
    }
   ],
   "source": [
    "game.winner"
   ]
  },
  {
   "cell_type": "code",
   "execution_count": null,
   "metadata": {},
   "outputs": [],
   "source": []
  }
 ],
 "metadata": {
  "kernelspec": {
   "display_name": "Python 3",
   "language": "python",
   "name": "python3"
  },
  "language_info": {
   "codemirror_mode": {
    "name": "ipython",
    "version": 3
   },
   "file_extension": ".py",
   "mimetype": "text/x-python",
   "name": "python",
   "nbconvert_exporter": "python",
   "pygments_lexer": "ipython3",
   "version": "3.8.5"
  }
 },
 "nbformat": 4,
 "nbformat_minor": 4
}
