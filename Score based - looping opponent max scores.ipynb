{
 "cells": [
  {
   "cell_type": "code",
   "execution_count": 1,
   "metadata": {},
   "outputs": [],
   "source": [
    "import csv\n",
    "\n",
    "from dice import ScoreBasedPlayer, Game\n",
    "from collections import defaultdict\n",
    "from simulations import turn_based_simulations"
   ]
  },
  {
   "cell_type": "code",
   "execution_count": 2,
   "metadata": {},
   "outputs": [],
   "source": [
    "max_scores = [50*i for i in range(2,30)]\n",
    "num_games = 10000\n",
    "player_scores = range(50,1000,50)"
   ]
  },
  {
   "cell_type": "code",
   "execution_count": 3,
   "metadata": {},
   "outputs": [],
   "source": [
    "scores = defaultdict(float)"
   ]
  },
  {
   "cell_type": "code",
   "execution_count": 4,
   "metadata": {},
   "outputs": [],
   "source": [
    "for score in max_scores:\n",
    "    scores[score] = turn_based_simulations([player_score for player_score in player_scores],num_games=num_games,max_player_scores=score)"
   ]
  },
  {
   "cell_type": "code",
   "execution_count": 5,
   "metadata": {},
   "outputs": [],
   "source": [
    "with open('scoredbasedloopedopponentscores.csv',mode='w',newline='') as file:\n",
    "    wr = csv.writer(file,delimiter=',')\n",
    "    wr.writerow(['MaxOpponentScore','Score','WinPercentage','AverageOpponentScore'])\n",
    "    for score in max_scores:\n",
    "        for key,value in scores[score].items():\n",
    "            wr.writerow([score,key,value[0],value[1]])"
   ]
  },
  {
   "cell_type": "code",
   "execution_count": 8,
   "metadata": {},
   "outputs": [],
   "source": [
    "import pandas as pd\n",
    "import matplotlib.pyplot as plt"
   ]
  },
  {
   "cell_type": "code",
   "execution_count": 7,
   "metadata": {},
   "outputs": [
    {
     "data": {
      "text/html": [
       "<div>\n",
       "<style scoped>\n",
       "    .dataframe tbody tr th:only-of-type {\n",
       "        vertical-align: middle;\n",
       "    }\n",
       "\n",
       "    .dataframe tbody tr th {\n",
       "        vertical-align: top;\n",
       "    }\n",
       "\n",
       "    .dataframe thead th {\n",
       "        text-align: right;\n",
       "    }\n",
       "</style>\n",
       "<table border=\"1\" class=\"dataframe\">\n",
       "  <thead>\n",
       "    <tr style=\"text-align: right;\">\n",
       "      <th></th>\n",
       "      <th>MaxOpponentScore</th>\n",
       "      <th>Score</th>\n",
       "      <th>WinPercentage</th>\n",
       "      <th>AverageOpponentScore</th>\n",
       "    </tr>\n",
       "  </thead>\n",
       "  <tbody>\n",
       "    <tr>\n",
       "      <th>0</th>\n",
       "      <td>100</td>\n",
       "      <td>50</td>\n",
       "      <td>0.1649</td>\n",
       "      <td>50.000</td>\n",
       "    </tr>\n",
       "    <tr>\n",
       "      <th>1</th>\n",
       "      <td>100</td>\n",
       "      <td>100</td>\n",
       "      <td>0.4184</td>\n",
       "      <td>50.000</td>\n",
       "    </tr>\n",
       "    <tr>\n",
       "      <th>2</th>\n",
       "      <td>100</td>\n",
       "      <td>150</td>\n",
       "      <td>0.6878</td>\n",
       "      <td>50.000</td>\n",
       "    </tr>\n",
       "    <tr>\n",
       "      <th>3</th>\n",
       "      <td>100</td>\n",
       "      <td>200</td>\n",
       "      <td>0.7832</td>\n",
       "      <td>50.000</td>\n",
       "    </tr>\n",
       "    <tr>\n",
       "      <th>4</th>\n",
       "      <td>100</td>\n",
       "      <td>250</td>\n",
       "      <td>0.8282</td>\n",
       "      <td>50.000</td>\n",
       "    </tr>\n",
       "    <tr>\n",
       "      <th>...</th>\n",
       "      <td>...</td>\n",
       "      <td>...</td>\n",
       "      <td>...</td>\n",
       "      <td>...</td>\n",
       "    </tr>\n",
       "    <tr>\n",
       "      <th>527</th>\n",
       "      <td>1450</td>\n",
       "      <td>750</td>\n",
       "      <td>0.1900</td>\n",
       "      <td>725.013</td>\n",
       "    </tr>\n",
       "    <tr>\n",
       "      <th>528</th>\n",
       "      <td>1450</td>\n",
       "      <td>800</td>\n",
       "      <td>0.1582</td>\n",
       "      <td>724.186</td>\n",
       "    </tr>\n",
       "    <tr>\n",
       "      <th>529</th>\n",
       "      <td>1450</td>\n",
       "      <td>850</td>\n",
       "      <td>0.1361</td>\n",
       "      <td>726.820</td>\n",
       "    </tr>\n",
       "    <tr>\n",
       "      <th>530</th>\n",
       "      <td>1450</td>\n",
       "      <td>900</td>\n",
       "      <td>0.1267</td>\n",
       "      <td>725.393</td>\n",
       "    </tr>\n",
       "    <tr>\n",
       "      <th>531</th>\n",
       "      <td>1450</td>\n",
       "      <td>950</td>\n",
       "      <td>0.1129</td>\n",
       "      <td>721.814</td>\n",
       "    </tr>\n",
       "  </tbody>\n",
       "</table>\n",
       "<p>532 rows × 4 columns</p>\n",
       "</div>"
      ],
      "text/plain": [
       "     MaxOpponentScore  Score  WinPercentage  AverageOpponentScore\n",
       "0                 100     50         0.1649                50.000\n",
       "1                 100    100         0.4184                50.000\n",
       "2                 100    150         0.6878                50.000\n",
       "3                 100    200         0.7832                50.000\n",
       "4                 100    250         0.8282                50.000\n",
       "..                ...    ...            ...                   ...\n",
       "527              1450    750         0.1900               725.013\n",
       "528              1450    800         0.1582               724.186\n",
       "529              1450    850         0.1361               726.820\n",
       "530              1450    900         0.1267               725.393\n",
       "531              1450    950         0.1129               721.814\n",
       "\n",
       "[532 rows x 4 columns]"
      ]
     },
     "execution_count": 7,
     "metadata": {},
     "output_type": "execute_result"
    }
   ],
   "source": [
    "df = pd.read_csv(r'scoredbasedloopedopponentscores.csv')\n",
    "df"
   ]
  },
  {
   "cell_type": "code",
   "execution_count": 9,
   "metadata": {},
   "outputs": [
    {
     "data": {
      "image/png": "[encoded data removed]",
      "text/plain": [
       "<Figure size 720x720 with 1 Axes>"
      ]
     },
     "metadata": {
      "needs_background": "light"
     },
     "output_type": "display_data"
    }
   ],
   "source": [
    "fig,ax = plt.subplots(1,figsize=(10,10))\n",
    "for score in df.MaxOpponentScore.unique():\n",
    "    temp_df = df.loc[df.MaxOpponentScore == score]\n",
    "    \n",
    "    ax.scatter(temp_df.Score,temp_df.WinPercentage)\n",
    "    "
   ]
  },
  {
   "cell_type": "code",
   "execution_count": null,
   "metadata": {},
   "outputs": [],
   "source": []
  }
 ],
 "metadata": {
  "kernelspec": {
   "display_name": "Python 3",
   "language": "python",
   "name": "python3"
  },
  "language_info": {
   "codemirror_mode": {
    "name": "ipython",
    "version": 3
   },
   "file_extension": ".py",
   "mimetype": "text/x-python",
   "name": "python",
   "nbconvert_exporter": "python",
   "pygments_lexer": "ipython3",
   "version": "3.8.5"
  }
 },
 "nbformat": 4,
 "nbformat_minor": 4
}
