{
 "cells": [
  {
   "cell_type": "markdown",
   "metadata": {},
   "source": [
    "# Looping numnber of opponents Notebook\n",
    "## Author: Robert \n",
    "## Date: December 3, 2020 \n",
    "\n",
    "The purpose of this notebook is to examine how player win percentage changes depending on how many opponents they are facing"
   ]
  },
  {
   "cell_type": "code",
   "execution_count": 1,
   "metadata": {},
   "outputs": [],
   "source": [
    "## library imports\n",
    "\n",
    "import csv ## for results writing\n",
    "\n",
    "from dice import ScoreBasedPlayer, Game ## Dice game objects\n",
    "from collections import defaultdict ## for storing results\n",
    "from simulations import score_based_simulations ## for running simulations"
   ]
  },
  {
   "cell_type": "code",
   "execution_count": 2,
   "metadata": {},
   "outputs": [],
   "source": [
    "## simulation parameters\n",
    "\n",
    "num_games = 10000 ## number of simulations\n",
    "num_players = range(2,20) ## range of the number of players\n",
    "player_scores = range(50,1000,50) ## scores to be examined\n",
    "max_player_scores = 750 ## highest score the opponents will try and roll till "
   ]
  },
  {
   "cell_type": "code",
   "execution_count": 3,
   "metadata": {},
   "outputs": [],
   "source": [
    "## dictionary for holding results\n",
    "\n",
    "players = defaultdict(float)"
   ]
  },
  {
   "cell_type": "code",
   "execution_count": 4,
   "metadata": {},
   "outputs": [],
   "source": [
    "## looping through the number of opponents, checking how different players fare against different number of opponents \n",
    "\n",
    "for num_player in num_players:\n",
    "    players[num_player] = score_based_simulations([player_score for player_score in player_scores],num_games=num_games,num_players=num_player,max_player_scores=max_player_scores)"
   ]
  },
  {
   "cell_type": "code",
   "execution_count": 5,
   "metadata": {},
   "outputs": [],
   "source": [
    "## writing results to a CSV file \n",
    "\n",
    "with open('scoredbasedloopednumberofplayers.csv',mode='w',newline='') as file:\n",
    "    wr = csv.writer(file,delimiter=',')\n",
    "    wr.writerow(['NumberOfPlayers','Score','WinPercentage','AverageOpponentScore'])\n",
    "    for num_player in num_players:\n",
    "        for key,value in players[num_player].items():\n",
    "            wr.writerow([num_player,key,value[0],value[1]])"
   ]
  },
  {
   "cell_type": "code",
   "execution_count": 6,
   "metadata": {},
   "outputs": [],
   "source": [
    "## libraries for checking results\n",
    "\n",
    "import pandas as pd\n",
    "import matplotlib.pyplot as plt"
   ]
  },
  {
   "cell_type": "code",
   "execution_count": 7,
   "metadata": {},
   "outputs": [
    {
     "data": {
      "text/html": [
       "<div>\n",
       "<style scoped>\n",
       "    .dataframe tbody tr th:only-of-type {\n",
       "        vertical-align: middle;\n",
       "    }\n",
       "\n",
       "    .dataframe tbody tr th {\n",
       "        vertical-align: top;\n",
       "    }\n",
       "\n",
       "    .dataframe thead th {\n",
       "        text-align: right;\n",
       "    }\n",
       "</style>\n",
       "<table border=\"1\" class=\"dataframe\">\n",
       "  <thead>\n",
       "    <tr style=\"text-align: right;\">\n",
       "      <th></th>\n",
       "      <th>NumberOfPlayers</th>\n",
       "      <th>Score</th>\n",
       "      <th>WinPercentage</th>\n",
       "      <th>AverageOpponentScore</th>\n",
       "    </tr>\n",
       "  </thead>\n",
       "  <tbody>\n",
       "    <tr>\n",
       "      <th>0</th>\n",
       "      <td>2</td>\n",
       "      <td>50</td>\n",
       "      <td>0.1528</td>\n",
       "      <td>373.700000</td>\n",
       "    </tr>\n",
       "    <tr>\n",
       "      <th>1</th>\n",
       "      <td>2</td>\n",
       "      <td>100</td>\n",
       "      <td>0.2983</td>\n",
       "      <td>375.175000</td>\n",
       "    </tr>\n",
       "    <tr>\n",
       "      <th>2</th>\n",
       "      <td>2</td>\n",
       "      <td>150</td>\n",
       "      <td>0.4681</td>\n",
       "      <td>375.550000</td>\n",
       "    </tr>\n",
       "    <tr>\n",
       "      <th>3</th>\n",
       "      <td>2</td>\n",
       "      <td>200</td>\n",
       "      <td>0.5658</td>\n",
       "      <td>374.570000</td>\n",
       "    </tr>\n",
       "    <tr>\n",
       "      <th>4</th>\n",
       "      <td>2</td>\n",
       "      <td>250</td>\n",
       "      <td>0.6085</td>\n",
       "      <td>377.875000</td>\n",
       "    </tr>\n",
       "    <tr>\n",
       "      <th>...</th>\n",
       "      <td>...</td>\n",
       "      <td>...</td>\n",
       "      <td>...</td>\n",
       "      <td>...</td>\n",
       "    </tr>\n",
       "    <tr>\n",
       "      <th>337</th>\n",
       "      <td>19</td>\n",
       "      <td>750</td>\n",
       "      <td>0.0524</td>\n",
       "      <td>374.903333</td>\n",
       "    </tr>\n",
       "    <tr>\n",
       "      <th>338</th>\n",
       "      <td>19</td>\n",
       "      <td>800</td>\n",
       "      <td>0.0404</td>\n",
       "      <td>375.299444</td>\n",
       "    </tr>\n",
       "    <tr>\n",
       "      <th>339</th>\n",
       "      <td>19</td>\n",
       "      <td>850</td>\n",
       "      <td>0.0378</td>\n",
       "      <td>376.117222</td>\n",
       "    </tr>\n",
       "    <tr>\n",
       "      <th>340</th>\n",
       "      <td>19</td>\n",
       "      <td>900</td>\n",
       "      <td>0.0388</td>\n",
       "      <td>374.813333</td>\n",
       "    </tr>\n",
       "    <tr>\n",
       "      <th>341</th>\n",
       "      <td>19</td>\n",
       "      <td>950</td>\n",
       "      <td>0.0291</td>\n",
       "      <td>375.153889</td>\n",
       "    </tr>\n",
       "  </tbody>\n",
       "</table>\n",
       "<p>342 rows × 4 columns</p>\n",
       "</div>"
      ],
      "text/plain": [
       "     NumberOfPlayers  Score  WinPercentage  AverageOpponentScore\n",
       "0                  2     50         0.1528            373.700000\n",
       "1                  2    100         0.2983            375.175000\n",
       "2                  2    150         0.4681            375.550000\n",
       "3                  2    200         0.5658            374.570000\n",
       "4                  2    250         0.6085            377.875000\n",
       "..               ...    ...            ...                   ...\n",
       "337               19    750         0.0524            374.903333\n",
       "338               19    800         0.0404            375.299444\n",
       "339               19    850         0.0378            376.117222\n",
       "340               19    900         0.0388            374.813333\n",
       "341               19    950         0.0291            375.153889\n",
       "\n",
       "[342 rows x 4 columns]"
      ]
     },
     "execution_count": 7,
     "metadata": {},
     "output_type": "execute_result"
    }
   ],
   "source": [
    "## reading in results \n",
    "\n",
    "df = pd.read_csv(r'scoredbasedloopednumberofplayers.csv')\n",
    "df"
   ]
  },
  {
   "cell_type": "code",
   "execution_count": 8,
   "metadata": {},
   "outputs": [
    {
     "data": {
      "image/png": "[encoded data removed]",
      "text/plain": [
       "<Figure size 720x720 with 1 Axes>"
      ]
     },
     "metadata": {
      "needs_background": "light"
     },
     "output_type": "display_data"
    }
   ],
   "source": [
    "## plotting results \n",
    "\n",
    "fig,ax = plt.subplots(1,figsize=(10,10))\n",
    "for player in df.NumberOfPlayers.unique():\n",
    "    temp_df = df.loc[df.NumberOfPlayers == player]\n",
    "    \n",
    "    ax.scatter(temp_df.Score,temp_df.WinPercentage)\n",
    "    \n",
    "ax.set_xlabel(\"Score threshold for player\",fontweight='bold')\n",
    "ax.set_ylabel('Win Percentage',fontweight='bold')\n",
    "\n",
    "plt.show()\n",
    "    "
   ]
  },
  {
   "cell_type": "code",
   "execution_count": null,
   "metadata": {},
   "outputs": [],
   "source": []
  }
 ],
 "metadata": {
  "kernelspec": {
   "display_name": "Python 3",
   "language": "python",
   "name": "python3"
  },
  "language_info": {
   "codemirror_mode": {
    "name": "ipython",
    "version": 3
   },
   "file_extension": ".py",
   "mimetype": "text/x-python",
   "name": "python",
   "nbconvert_exporter": "python",
   "pygments_lexer": "ipython3",
   "version": "3.7.3"
  }
 },
 "nbformat": 4,
 "nbformat_minor": 4
}
