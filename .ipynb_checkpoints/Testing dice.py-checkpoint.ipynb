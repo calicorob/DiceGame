{
 "cells": [
  {
   "cell_type": "markdown",
   "metadata": {},
   "source": [
    "# Testing Notebook\n",
    "## Author: Robert\n",
    "## Date: December 30, 2020\n",
    "\n",
    "Purpose of this notebook is to test the dice.py module and it's functionalities "
   ]
  },
  {
   "cell_type": "code",
   "execution_count": 1,
   "metadata": {},
   "outputs": [],
   "source": [
    "## library imports \n",
    "\n",
    "import dice ## dice module \n",
    "import random ## for shuffling players \n",
    "\n",
    "from collections import defaultdict ## for storing results "
   ]
  },
  {
   "cell_type": "markdown",
   "metadata": {},
   "source": [
    "### Dice creation and roll testing"
   ]
  },
  {
   "cell_type": "code",
   "execution_count": 19,
   "metadata": {},
   "outputs": [
    {
     "name": "stdout",
     "output_type": "stream",
     "text": [
      "3.5245\n"
     ]
    }
   ],
   "source": [
    "def test_dice(num_rolls:int=10000)->float:\n",
    "    \"\"\"\n",
    "    \n",
    "        Function for testing dice output \n",
    "        \n",
    "        Args:\n",
    "            num_rolls (int): number of times die should be rolled\n",
    "            \n",
    "        Returns:\n",
    "            float, average of the dice roll\n",
    "    \n",
    "    \n",
    "    \"\"\"\n",
    "    \n",
    "    \n",
    "    ## initialize Dice object\n",
    "    Dice = dice.Dice()\n",
    "    \n",
    "    ## list for storing rolls\n",
    "    rolls = []\n",
    "    \n",
    "    ## roll dice num_rolls time\n",
    "    for _ in range(num_rolls):\n",
    "        rolls.append(Dice.roll()) ## append roll to rolls list\n",
    "    \n",
    "    \n",
    "    ## return average\n",
    "    return sum(rolls) / len(rolls)\n",
    "\n",
    "## Expected ~3.5\n",
    "print(test_dice())"
   ]
  },
  {
   "cell_type": "markdown",
   "metadata": {},
   "source": [
    "### Player creation "
   ]
  },
  {
   "cell_type": "code",
   "execution_count": 4,
   "metadata": {},
   "outputs": [],
   "source": [
    "## testing initializing a player object \n",
    "\n",
    "\n",
    "## initialize a player object\n",
    "player = dice.Player()\n",
    "\n",
    "## testing that a player is out of a game when they're initialized\n",
    "assert not player.isin, \"Player is somehow already 'in' a game!\"\n",
    "\n",
    "## testing that a player starts with a score of 0 \n",
    "assert player.get_score() == 0, \"Player score is above 0 to start!\""
   ]
  },
  {
   "cell_type": "markdown",
   "metadata": {},
   "source": [
    "### Getting into a game"
   ]
  },
  {
   "cell_type": "code",
   "execution_count": 12,
   "metadata": {},
   "outputs": [
    {
     "name": "stdout",
     "output_type": "stream",
     "text": [
      "450\n"
     ]
    }
   ],
   "source": [
    "## testing a player's ability to get into a game \n",
    "\n",
    "## initialize a player object\n",
    "player = dice.Player()\n",
    "\n",
    "## test that while a player is not in, thier score remains at 0 but afterwards their score should be equal to 300 or more \n",
    "while not player.isin:\n",
    "    assert player.get_score() ==0, \"Player isn't in the game, so their score should be 0\"\n",
    "    player.turn()\n",
    "    \n",
    "assert player.isin, \"Player should be in the game \"\n",
    "assert player.get_score() >= 300, \"Player is now 'in' the game and their score should be equal to or bigger than 300\"\n",
    "\n",
    "\n",
    "print(player.get_score())"
   ]
  },
  {
   "cell_type": "code",
   "execution_count": null,
   "metadata": {},
   "outputs": [],
   "source": []
  }
 ],
 "metadata": {
  "kernelspec": {
   "display_name": "Python 3",
   "language": "python",
   "name": "python3"
  },
  "language_info": {
   "codemirror_mode": {
    "name": "ipython",
    "version": 3
   },
   "file_extension": ".py",
   "mimetype": "text/x-python",
   "name": "python",
   "nbconvert_exporter": "python",
   "pygments_lexer": "ipython3",
   "version": "3.7.9"
  }
 },
 "nbformat": 4,
 "nbformat_minor": 4
}
