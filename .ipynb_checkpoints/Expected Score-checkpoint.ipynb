{
 "cells": [
  {
   "cell_type": "markdown",
   "metadata": {},
   "source": [
    "# Expected Score Notebook\n",
    "## Author: Robert \n",
    "## Date: January 4, 2021\n",
    "\n",
    "Purpose of this notebook is to look at the expected score of a turn based on the Score the player is rolling till"
   ]
  },
  {
   "cell_type": "code",
   "execution_count": 21,
   "metadata": {},
   "outputs": [],
   "source": [
    "## library imports\n",
    "\n",
    "import pandas as pd ## data manipulation\n",
    "import matplotlib.pyplot as plt ## for results plotting\n",
    "from collections import defaultdict ## for resultstoring\n",
    "from dice import ScoreBasedPlayer ## dice library\n"
   ]
  },
  {
   "cell_type": "code",
   "execution_count": 19,
   "metadata": {},
   "outputs": [],
   "source": [
    "scores_to_check = [50*i for i in range(1,20)] ## scores to loop through\n",
    "turns  = 10000 ## number of rolls to make \n",
    "expected_scores = defaultdict(float) ## for storing results"
   ]
  },
  {
   "cell_type": "code",
   "execution_count": 20,
   "metadata": {},
   "outputs": [
    {
     "data": {
      "text/plain": [
       "defaultdict(float,\n",
       "            {50: 87.685,\n",
       "             100: 104.455,\n",
       "             150: 121.79,\n",
       "             200: 133.345,\n",
       "             250: 139.425,\n",
       "             300: 146.43,\n",
       "             350: 147.62,\n",
       "             400: 140.94,\n",
       "             450: 141.505,\n",
       "             500: 133.54,\n",
       "             550: 132.26,\n",
       "             600: 122.73,\n",
       "             650: 118.87,\n",
       "             700: 109.555,\n",
       "             750: 108.465,\n",
       "             800: 104.16,\n",
       "             850: 95.535,\n",
       "             900: 87.195,\n",
       "             950: 85.195})"
      ]
     },
     "execution_count": 20,
     "metadata": {},
     "output_type": "execute_result"
    }
   ],
   "source": [
    "## loop through each score of interest \n",
    "\n",
    "for score in scores_to_check:\n",
    "    player = ScoreBasedPlayer(score,isin=True) ## create a player who will try and roll till the score of interest\n",
    "    for _ in range(turns): ## play turns number of turns \n",
    "        player.turn() ## play a turn \n",
    "    expected_scores[score] = player.get_stats().TurnScores.mean() ## calculate expected score \n",
    "    \n",
    "expected_scores"
   ]
  },
  {
   "cell_type": "code",
   "execution_count": 30,
   "metadata": {},
   "outputs": [
    {
     "ename": "AttributeError",
     "evalue": "module 'matplotlib.pyplot' has no attribute 'save_figure'",
     "output_type": "error",
     "traceback": [
      "\u001b[1;31m---------------------------------------------------------------------------\u001b[0m",
      "\u001b[1;31mAttributeError\u001b[0m                            Traceback (most recent call last)",
      "\u001b[1;32m<ipython-input-30-045be4509e03>\u001b[0m in \u001b[0;36m<module>\u001b[1;34m\u001b[0m\n\u001b[0;32m      3\u001b[0m \u001b[0max\u001b[0m\u001b[1;33m.\u001b[0m\u001b[0mset_xlabel\u001b[0m\u001b[1;33m(\u001b[0m\u001b[1;34m\"Score Threshold\"\u001b[0m\u001b[1;33m,\u001b[0m\u001b[0mfontweight\u001b[0m\u001b[1;33m=\u001b[0m\u001b[1;34m'bold'\u001b[0m\u001b[1;33m,\u001b[0m\u001b[0mfontsize\u001b[0m\u001b[1;33m=\u001b[0m\u001b[1;36m14\u001b[0m\u001b[1;33m)\u001b[0m\u001b[1;33m\u001b[0m\u001b[1;33m\u001b[0m\u001b[0m\n\u001b[0;32m      4\u001b[0m \u001b[0max\u001b[0m\u001b[1;33m.\u001b[0m\u001b[0mset_ylabel\u001b[0m\u001b[1;33m(\u001b[0m\u001b[1;34m\"Expected Turn Score\"\u001b[0m\u001b[1;33m,\u001b[0m\u001b[0mfontweight\u001b[0m\u001b[1;33m=\u001b[0m\u001b[1;34m'bold'\u001b[0m\u001b[1;33m,\u001b[0m\u001b[0mfontsize\u001b[0m\u001b[1;33m=\u001b[0m\u001b[1;36m14\u001b[0m\u001b[1;33m)\u001b[0m\u001b[1;33m\u001b[0m\u001b[1;33m\u001b[0m\u001b[0m\n\u001b[1;32m----> 5\u001b[1;33m \u001b[0mplt\u001b[0m\u001b[1;33m.\u001b[0m\u001b[0msave_figure\u001b[0m\u001b[1;33m(\u001b[0m\u001b[1;34m\"TurnExpectedScore.png\"\u001b[0m\u001b[1;33m)\u001b[0m\u001b[1;33m\u001b[0m\u001b[1;33m\u001b[0m\u001b[0m\n\u001b[0m\u001b[0;32m      6\u001b[0m \u001b[0mplt\u001b[0m\u001b[1;33m.\u001b[0m\u001b[0mshow\u001b[0m\u001b[1;33m(\u001b[0m\u001b[1;33m)\u001b[0m\u001b[1;33m\u001b[0m\u001b[1;33m\u001b[0m\u001b[0m\n",
      "\u001b[1;31mAttributeError\u001b[0m: module 'matplotlib.pyplot' has no attribute 'save_figure'"
     ]
    },
    {
     "data": {
      "image/png": "[encoded data removed]",
      "text/plain": [
       "<Figure size 720x360 with 1 Axes>"
      ]
     },
     "metadata": {
      "needs_background": "light"
     },
     "output_type": "display_data"
    }
   ],
   "source": [
    "fig,ax = plt.subplots(1,figsize=(10,5))\n",
    "ax.scatter(expected_scores.keys(),expected_scores.values(),color=\"black\",linewidth=2)\n",
    "ax.set_xlabel(\"Score Threshold\",fontweight='bold',fontsize=14)\n",
    "ax.set_ylabel(\"Expected Turn Score\",fontweight='bold',fontsize=14)\n",
    "plt.save_figure(\"TurnExpectedScore.png\")\n",
    "plt.show()"
   ]
  },
  {
   "cell_type": "code",
   "execution_count": null,
   "metadata": {},
   "outputs": [],
   "source": []
  }
 ],
 "metadata": {
  "kernelspec": {
   "display_name": "Python 3",
   "language": "python",
   "name": "python3"
  },
  "language_info": {
   "codemirror_mode": {
    "name": "ipython",
    "version": 3
   },
   "file_extension": ".py",
   "mimetype": "text/x-python",
   "name": "python",
   "nbconvert_exporter": "python",
   "pygments_lexer": "ipython3",
   "version": "3.7.9"
  }
 },
 "nbformat": 4,
 "nbformat_minor": 4
}
