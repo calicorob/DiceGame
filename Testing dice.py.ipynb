{
 "cells": [
  {
   "cell_type": "markdown",
   "metadata": {},
   "source": [
    "# Testing Notebook\n",
    "## Author: Robert\n",
    "## Date: December 30, 2020\n",
    "\n",
    "Purpose of this notebook is to test the dice.py module and it's functionalities "
   ]
  },
  {
   "cell_type": "code",
   "execution_count": 1,
   "metadata": {},
   "outputs": [],
   "source": [
    "## library imports \n",
    "\n",
    "import dice ## dice module \n",
    "import random ## for shuffling players \n",
    "\n",
    "from collections import defaultdict ## for storing results "
   ]
  },
  {
   "cell_type": "markdown",
   "metadata": {},
   "source": [
    "### Dice creation and roll testing"
   ]
  },
  {
   "cell_type": "code",
   "execution_count": 19,
   "metadata": {},
   "outputs": [
    {
     "name": "stdout",
     "output_type": "stream",
     "text": [
      "3.5245\n"
     ]
    }
   ],
   "source": [
    "def test_dice(num_rolls:int=10000)->float:\n",
    "    \"\"\"\n",
    "    \n",
    "        Function for testing dice output \n",
    "        \n",
    "        Args:\n",
    "            num_rolls (int): number of times die should be rolled\n",
    "            \n",
    "        Returns:\n",
    "            float, average of the dice roll\n",
    "    \n",
    "    \n",
    "    \"\"\"\n",
    "    \n",
    "    \n",
    "    ## initialize Dice object\n",
    "    Dice = dice.Dice()\n",
    "    \n",
    "    ## list for storing rolls\n",
    "    rolls = []\n",
    "    \n",
    "    ## roll dice num_rolls time\n",
    "    for _ in range(num_rolls):\n",
    "        rolls.append(Dice.roll()) ## append roll to rolls list\n",
    "    \n",
    "    \n",
    "    ## return average\n",
    "    return sum(rolls) / len(rolls)\n",
    "\n",
    "## Expected ~3.5\n",
    "print(test_dice())"
   ]
  },
  {
   "cell_type": "markdown",
   "metadata": {},
   "source": [
    "### Player creation "
   ]
  },
  {
   "cell_type": "code",
   "execution_count": 4,
   "metadata": {},
   "outputs": [],
   "source": [
    "## testing initializing a player object \n",
    "\n",
    "\n",
    "## initialize a player object\n",
    "player = dice.Player()\n",
    "\n",
    "## testing that a player is out of a game when they're initialized\n",
    "assert not player.isin, \"Player is somehow already 'in' a game!\"\n",
    "\n",
    "## testing that a player starts with a score of 0 \n",
    "assert player.get_score() == 0, \"Player score is above 0 to start!\""
   ]
  },
  {
   "cell_type": "markdown",
   "metadata": {},
   "source": [
    "### Getting into a game"
   ]
  },
  {
   "cell_type": "code",
   "execution_count": 12,
   "metadata": {},
   "outputs": [
    {
     "name": "stdout",
     "output_type": "stream",
     "text": [
      "450\n"
     ]
    }
   ],
   "source": [
    "## testing a player's ability to get into a game \n",
    "\n",
    "## initialize a player object\n",
    "player = dice.Player()\n",
    "\n",
    "## test that while a player is not in, thier score remains at 0 but afterwards their score should be equal to 300 or more \n",
    "while not player.isin:\n",
    "    assert player.get_score() ==0, \"Player isn't in the game, so their score should be 0\"\n",
    "    player.turn()\n",
    "    \n",
    "assert player.isin, \"Player should be in the game \"\n",
    "assert player.get_score() >= 300, \"Player is now 'in' the game and their score should be equal to or bigger than 300\"\n",
    "\n",
    "\n",
    "print(player.get_score())"
   ]
  },
  {
   "cell_type": "markdown",
   "metadata": {},
   "source": [
    "### TurnBasedPlayer creation"
   ]
  },
  {
   "cell_type": "code",
   "execution_count": 31,
   "metadata": {},
   "outputs": [
    {
     "name": "stdout",
     "output_type": "stream",
     "text": [
      "Testing pid: 27 score: 550\n",
      "Testing pid: 28 score: 350\n",
      "Testing pid: 29 score: 400\n"
     ]
    }
   ],
   "source": [
    "## testing initializing a TurnBasedPlayer object\n",
    "\n",
    "\n",
    "def test_turn_based_player_creation(num_turns:int=3)->None:\n",
    "    \n",
    "    \"\"\"\n",
    "        Function for testing number of minimum turns is set properly \n",
    "            Args:\n",
    "                num_turns (int): number of turns\n",
    "            Returns:\n",
    "                None\n",
    "    \n",
    "    \"\"\"\n",
    "    \n",
    "    turn_player = dice.TurnBasedPlayer(num_turns)\n",
    "    assert turn_player.get_min_turns() == num_turns, \"Number of turns doesn't match set values\"\n",
    "    \n",
    "def test_getting_into_game(player):\n",
    "    \"\"\"\n",
    "        Function for testing if a player object is properly getting into a game, improvement on previous notebook cell \n",
    "        \n",
    "        Args:\n",
    "            player (Player or it's children), Player object that is being tested, must have the turn method and the isin parameter and the get_score method \n",
    "        \n",
    "        Returns:\n",
    "            None\n",
    "    \n",
    "    \"\"\"\n",
    "    \n",
    "    assert not player.isin, \"Player is already in, please pass a player that is not in a game\"\n",
    "    \n",
    "    while not player.isin:\n",
    "        assert player.get_score() ==0, \"Player isn't in the game, so their score should be 0\"\n",
    "        player.turn()\n",
    "    \n",
    "    assert player.isin, \"Player should be in the game \"\n",
    "    assert player.get_score() >= 300, \"Player is now 'in' the game and their score should be equal to or bigger than 300\"\n",
    "\n",
    "    print(''.join([\"Testing \",player.__repr__()]))\n",
    "\n",
    "test_turn_based_player_creation()\n",
    "\n",
    "test_getting_into_game(dice.TurnBasedPlayer(3))\n",
    "test_getting_into_game(dice.Player())\n",
    "test_getting_into_game(dice.ScoreBasedPlayer(300))\n",
    "\n",
    "\n",
    "## TODO add more testing for TurnBasedPlayer"
   ]
  },
  {
   "cell_type": "markdown",
   "metadata": {},
   "source": [
    "### ScoreBasedPlayer creation"
   ]
  },
  {
   "cell_type": "code",
   "execution_count": 33,
   "metadata": {},
   "outputs": [],
   "source": [
    "## TODO add more testing for ScoreBasedPlayer"
   ]
  },
  {
   "cell_type": "markdown",
   "metadata": {},
   "source": [
    "### Game Creation"
   ]
  },
  {
   "cell_type": "code",
   "execution_count": 38,
   "metadata": {},
   "outputs": [
    {
     "name": "stdout",
     "output_type": "stream",
     "text": [
      "Winner is pid: 42 score: 5200\n"
     ]
    }
   ],
   "source": [
    "def test_regular_player_game(num_players:int=5,final_score:int=5000):\n",
    "    \"\"\"\n",
    "    \n",
    "        Test playing a game with the type of player passed to the game \n",
    "        \n",
    "        Args:\n",
    "            num_players (int): Number of players to play the game\n",
    "            final_score (int): Final score of the game to be played \n",
    "            \n",
    "        Returns:\n",
    "            None\n",
    "    \n",
    "    \n",
    "    \"\"\"\n",
    "    ## initiaize list of players\n",
    "    players = [dice.Player() for _ in range(num_players)]\n",
    "    \n",
    "    ## shuffle players\n",
    "    random.shuffle(players)\n",
    "    \n",
    "    game = dice.Game(players=players,final_score=final_score)\n",
    "    game.play()\n",
    "    \n",
    "    assert game.over, \"Game should be over\"\n",
    "    assert game.winner.get_score() >= final_score, \"Winner score should be over the final score of the game \"\n",
    "    \n",
    "    print(''.join([\"Winner is \",game.winner.__repr__()]))\n",
    "    \n",
    "test_regular_player_game()"
   ]
  },
  {
   "cell_type": "code",
   "execution_count": null,
   "metadata": {},
   "outputs": [],
   "source": []
  }
 ],
 "metadata": {
  "kernelspec": {
   "display_name": "Python 3",
   "language": "python",
   "name": "python3"
  },
  "language_info": {
   "codemirror_mode": {
    "name": "ipython",
    "version": 3
   },
   "file_extension": ".py",
   "mimetype": "text/x-python",
   "name": "python",
   "nbconvert_exporter": "python",
   "pygments_lexer": "ipython3",
   "version": "3.7.9"
  }
 },
 "nbformat": 4,
 "nbformat_minor": 4
}
