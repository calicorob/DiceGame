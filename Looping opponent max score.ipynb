{
 "cells": [
  {
   "cell_type": "markdown",
   "metadata": {},
   "source": [
    "# Looping Opponent Max Scores Notebook\n",
    "## Date: December 3, 2020 \n",
    "\n",
    "The purpose of this notebook is to examine how player win percentage changes depending on the risk aversion of the opponents."
   ]
  },
  {
   "cell_type": "code",
   "execution_count": 1,
   "metadata": {},
   "outputs": [],
   "source": [
    "## library imports\n",
    "\n",
    "import csv ## for results writing\n",
    "\n",
    "from dice import ScoreBasedPlayer, Game ## Dice game objects\n",
    "from collections import defaultdict ## for storing results\n",
    "from simulations import score_based_simulations ## for running simulations"
   ]
  },
  {
   "cell_type": "code",
   "execution_count": 2,
   "metadata": {},
   "outputs": [],
   "source": [
    "## simulation parameters \n",
    "\n",
    "max_scores = [50*i for i in range(2,30)] ## indenpdent variable, maximum scores to examine, basically sets how the max risk the other players will take\n",
    "num_games = 10000 ## number of simulations to run \n",
    "player_scores = range(50,1000,50) ## indenpendent variable, basically the scores for the player of interest that will be examiend "
   ]
  },
  {
   "cell_type": "code",
   "execution_count": 3,
   "metadata": {},
   "outputs": [],
   "source": [
    "## dictionary for holding the results \n",
    "\n",
    "scores = defaultdict(float)"
   ]
  },
  {
   "cell_type": "code",
   "execution_count": null,
   "metadata": {},
   "outputs": [],
   "source": [
    "## loop through the max scores, checking how each player with different risk adversions fares against riskier and riskier opponents \n",
    "\n",
    "for score in max_scores:\n",
    "    scores[score] = score_based_simulations([player_score for player_score in player_scores],num_games=num_games,max_player_scores=score)"
   ]
  },
  {
   "cell_type": "code",
   "execution_count": null,
   "metadata": {},
   "outputs": [],
   "source": [
    "## write results to csv (could do this with pandas but I like doing things in sort of basic python sometimes)\n",
    "\n",
    "with open('WinPctResults.csv',mode='w',newline='') as file:\n",
    "    wr = csv.writer(file,delimiter=',')\n",
    "    wr.writerow(['MaxOpponentScore','Score','WinPercentage','AverageOpponentScore'])\n",
    "    for score in max_scores:\n",
    "        for key,value in scores[score].items():\n",
    "            wr.writerow([score,key,value[0],value[1]])"
   ]
  }
 ],
 "metadata": {
  "kernelspec": {
   "display_name": "Python 3",
   "language": "python",
   "name": "python3"
  },
  "language_info": {
   "codemirror_mode": {
    "name": "ipython",
    "version": 3
   },
   "file_extension": ".py",
   "mimetype": "text/x-python",
   "name": "python",
   "nbconvert_exporter": "python",
   "pygments_lexer": "ipython3",
   "version": "3.7.3"
  }
 },
 "nbformat": 4,
 "nbformat_minor": 4
}
