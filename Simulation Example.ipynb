{
 "cells": [
  {
   "cell_type": "markdown",
   "metadata": {},
   "source": [
    "# Simulation Notebook \n",
    "## Date: December 30, 2020 #rip2020\n",
    "\n",
    "Purpose of this notebook is to run some test simulations. "
   ]
  },
  {
   "cell_type": "code",
   "execution_count": 1,
   "metadata": {},
   "outputs": [],
   "source": [
    "## library imports \n",
    "\n",
    "import dice \n",
    "import simulations "
   ]
  },
  {
   "cell_type": "code",
   "execution_count": 2,
   "metadata": {},
   "outputs": [
    {
     "data": {
      "text/plain": [
       "(0.261, 498.86)"
      ]
     },
     "execution_count": 2,
     "metadata": {},
     "output_type": "execute_result"
    }
   ],
   "source": [
    "## running a score based simulation\n",
    "player_of_interest_score = 300 ## score player of interest will try and roll till\n",
    "num_games = 1000 ## number of simulations \n",
    "max_player_scores=1000 ## maximum possible score the opponents will try and roll till\n",
    "\n",
    "## run simulation, results = tuple of win percentage of player of interest and the average score the opponents rolled till \n",
    "simulations.score_based_simulation(player_of_interest_score = player_of_interest_score,num_games=num_games,max_player_scores=max_player_scores)"
   ]
  },
  {
   "cell_type": "code",
   "execution_count": 4,
   "metadata": {},
   "outputs": [
    {
     "data": {
      "text/plain": [
       "defaultdict(int, {150: (0.09, 246.0), 200: (0.24, 240.7)})"
      ]
     },
     "execution_count": 4,
     "metadata": {},
     "output_type": "execute_result"
    }
   ],
   "source": [
    "## running multiple score based simulations \n",
    "\n",
    "scores_to_be_examined = [150,200] ## score players of interest will try and roll till\n",
    "num_games = 100 ## number of simulations \n",
    "\n",
    "## run the simulations, results = dicitonary with key, value of player of interest score and tuple of win percentage and average score the opponent rolled till\n",
    "simulations.score_based_simulations(scores_to_be_examined=scores_to_be_examined,num_games=num_games)"
   ]
  },
  {
   "cell_type": "code",
   "execution_count": 5,
   "metadata": {},
   "outputs": [
    {
     "data": {
      "text/plain": [
       "(0.3332, 5.496680000000008)"
      ]
     },
     "execution_count": 5,
     "metadata": {},
     "output_type": "execute_result"
    }
   ],
   "source": [
    "## running a turn based simulation\n",
    "\n",
    "player_of_interest_turns = 3 ## number of turns player of interest will try and roll till\n",
    "num_games = 10000 ## number of simulations\n",
    "\n",
    "## run simulation, results = tuple of win percentage of player of interest and average turns opponents rolled till \n",
    "simulations.turn_based_simulation(player_of_interest_turns=player_of_interest_turns,num_games=num_games)"
   ]
  },
  {
   "cell_type": "code",
   "execution_count": 6,
   "metadata": {},
   "outputs": [
    {
     "data": {
      "text/plain": [
       "defaultdict(int,\n",
       "            {1: (0.045, 5.526599999999995),\n",
       "             2: (0.273, 5.5075999999999965),\n",
       "             3: (0.338, 5.481399999999999)})"
      ]
     },
     "execution_count": 6,
     "metadata": {},
     "output_type": "execute_result"
    }
   ],
   "source": [
    "## running multiple turn based simulations\n",
    "\n",
    "turns_to_be_examined = [1,2,3] ## turns player of interest will try and roll till\n",
    "num_games = 1000\n",
    "\n",
    "## run simulations, results = dictionary with key, value of player of interest turns and tuple of win percentage and average turns the opponents rolled till \n",
    "simulations.turn_based_simulations(turns_to_be_examined = turns_to_be_examined,num_games=num_games)"
   ]
  },
  {
   "cell_type": "code",
   "execution_count": null,
   "metadata": {},
   "outputs": [],
   "source": []
  }
 ],
 "metadata": {
  "kernelspec": {
   "display_name": "Python 3",
   "language": "python",
   "name": "python3"
  },
  "language_info": {
   "codemirror_mode": {
    "name": "ipython",
    "version": 3
   },
   "file_extension": ".py",
   "mimetype": "text/x-python",
   "name": "python",
   "nbconvert_exporter": "python",
   "pygments_lexer": "ipython3",
   "version": "3.7.3"
  }
 },
 "nbformat": 4,
 "nbformat_minor": 4
}
