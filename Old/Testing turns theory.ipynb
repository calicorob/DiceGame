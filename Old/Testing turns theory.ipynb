{
 "cells": [
  {
   "cell_type": "code",
   "execution_count": 1,
   "metadata": {},
   "outputs": [],
   "source": [
    "from dice import Dice, Player, Game\n",
    "\n",
    "from collections import defaultdict\n",
    "\n",
    "import matplotlib.pyplot as plt\n",
    "import random"
   ]
  },
  {
   "cell_type": "code",
   "execution_count": null,
   "metadata": {},
   "outputs": [],
   "source": []
  },
  {
   "cell_type": "code",
   "execution_count": 2,
   "metadata": {},
   "outputs": [
    {
     "name": "stdout",
     "output_type": "stream",
     "text": [
      "276\n",
      "3.4967999999999995\n"
     ]
    }
   ],
   "source": [
    "wins = defaultdict(int)\n",
    "turn_avgs = []\n",
    "player_turns = 3\n",
    "player_wins = 0\n",
    "for game in range(1000):\n",
    "    player = Player(player_turns)\n",
    "    other_players = [Player(random.randint(1,6)) for turns in range(5)] \n",
    "    all_players = other_players + [player]\n",
    "    random.shuffle(all_players)\n",
    "    game = Game(all_players,5000)\n",
    "    game.play()\n",
    "    \n",
    "    turns = [player_.turns for player_ in all_players if player_ != player]\n",
    "    turn_avgs.append(sum(turns) / len(turns)) \n",
    "    if game.winner == player:\n",
    "        player_wins +=1\n",
    "print(player_wins)\n",
    "print(sum(turn_avgs)/len(turn_avgs))"
   ]
  },
  {
   "cell_type": "code",
   "execution_count": 3,
   "metadata": {},
   "outputs": [
    {
     "name": "stdout",
     "output_type": "stream",
     "text": [
      "170\n",
      "3.5128000000000004\n"
     ]
    }
   ],
   "source": [
    "wins = defaultdict(int)\n",
    "turn_avgs = []\n",
    "player_turns = 2\n",
    "player_wins = 0\n",
    "for game in range(1000):\n",
    "    player = Player(player_turns)\n",
    "    other_players = [Player(random.randint(1,6)) for turns in range(5)] \n",
    "    all_players = other_players + [player]\n",
    "    random.shuffle(all_players)\n",
    "    game = Game(all_players,5000)\n",
    "    game.play()\n",
    "    \n",
    "    turns = [player_.turns for player_ in all_players if player_ != player]\n",
    "    turn_avgs.append(sum(turns) / len(turns)) \n",
    "    if game.winner == player:\n",
    "        player_wins +=1\n",
    "print(player_wins)\n",
    "print(sum(turn_avgs)/len(turn_avgs))"
   ]
  },
  {
   "cell_type": "code",
   "execution_count": 4,
   "metadata": {},
   "outputs": [
    {
     "name": "stdout",
     "output_type": "stream",
     "text": [
      "241\n",
      "3.523799999999996\n"
     ]
    }
   ],
   "source": [
    "wins = defaultdict(int)\n",
    "turn_avgs = []\n",
    "player_turns = 4\n",
    "player_wins = 0\n",
    "for game in range(1000):\n",
    "    player = Player(player_turns)\n",
    "    other_players = [Player(random.randint(1,6)) for turns in range(5)] \n",
    "    all_players = other_players + [player]\n",
    "    random.shuffle(all_players)\n",
    "    game = Game(all_players,5000)\n",
    "    game.play()\n",
    "    \n",
    "    turns = [player_.turns for player_ in all_players if player_ != player]\n",
    "    turn_avgs.append(sum(turns) / len(turns)) \n",
    "    if game.winner == player:\n",
    "        player_wins +=1\n",
    "print(player_wins)\n",
    "print(sum(turn_avgs)/len(turn_avgs))"
   ]
  },
  {
   "cell_type": "code",
   "execution_count": 5,
   "metadata": {},
   "outputs": [
    {
     "name": "stdout",
     "output_type": "stream",
     "text": [
      "166\n",
      "3.4528\n"
     ]
    }
   ],
   "source": [
    "wins = defaultdict(int)\n",
    "turn_avgs = []\n",
    "player_turns = 4\n",
    "player_wins = 0\n",
    "for game in range(1000):\n",
    "    player = Player(player_turns)\n",
    "    other_players = [Player(random.randint(1,6)) for turns in range(10)] \n",
    "    all_players = other_players + [player]\n",
    "    random.shuffle(all_players)\n",
    "    game = Game(all_players,5000)\n",
    "    game.play()\n",
    "    \n",
    "    turns = [player_.turns for player_ in all_players if player_ != player]\n",
    "    turn_avgs.append(sum(turns) / len(turns)) \n",
    "    if game.winner == player:\n",
    "        player_wins +=1\n",
    "print(player_wins)\n",
    "print(sum(turn_avgs)/len(turn_avgs))"
   ]
  },
  {
   "cell_type": "code",
   "execution_count": 6,
   "metadata": {},
   "outputs": [
    {
     "name": "stdout",
     "output_type": "stream",
     "text": [
      "129\n",
      "3.5348000000000006\n"
     ]
    }
   ],
   "source": [
    "wins = defaultdict(int)\n",
    "turn_avgs = []\n",
    "player_turns = 3\n",
    "player_wins = 0\n",
    "for game in range(1000):\n",
    "    player = Player(player_turns)\n",
    "    other_players = [Player(random.randint(1,6)) for turns in range(10)] \n",
    "    all_players = other_players + [player]\n",
    "    random.shuffle(all_players)\n",
    "    game = Game(all_players,5000)\n",
    "    game.play()\n",
    "    \n",
    "    turns = [player_.turns for player_ in all_players if player_ != player]\n",
    "    turn_avgs.append(sum(turns) / len(turns)) \n",
    "    if game.winner == player:\n",
    "        player_wins +=1\n",
    "print(player_wins)\n",
    "print(sum(turn_avgs)/len(turn_avgs))"
   ]
  },
  {
   "cell_type": "code",
   "execution_count": 7,
   "metadata": {},
   "outputs": [
    {
     "name": "stdout",
     "output_type": "stream",
     "text": [
      "14\n",
      "3.5237999999999987\n"
     ]
    }
   ],
   "source": [
    "wins = defaultdict(int)\n",
    "turn_avgs = []\n",
    "player_turns = 10\n",
    "player_wins = 0\n",
    "for game in range(1000):\n",
    "    player = Player(player_turns)\n",
    "    other_players = [Player(random.randint(1,6)) for turns in range(10)] \n",
    "    all_players = other_players + [player]\n",
    "    random.shuffle(all_players)\n",
    "    game = Game(all_players,5000)\n",
    "    game.play()\n",
    "    \n",
    "    turns = [player_.turns for player_ in all_players if player_ != player]\n",
    "    turn_avgs.append(sum(turns) / len(turns)) \n",
    "    if game.winner == player:\n",
    "        player_wins +=1\n",
    "print(player_wins)\n",
    "print(sum(turn_avgs)/len(turn_avgs))"
   ]
  },
  {
   "cell_type": "code",
   "execution_count": 11,
   "metadata": {},
   "outputs": [
    {
     "name": "stdout",
     "output_type": "stream",
     "text": [
      "354\n",
      "10.442899999999977\n"
     ]
    }
   ],
   "source": [
    "wins = defaultdict(int)\n",
    "turn_avgs = []\n",
    "player_turns = 3\n",
    "player_wins = 0\n",
    "for game in range(1000):\n",
    "    player = Player(player_turns)\n",
    "    other_players = [Player(random.randint(1,20)) for turns in range(10)] \n",
    "    all_players = other_players + [player]\n",
    "    random.shuffle(all_players)\n",
    "    game = Game(all_players,5000)\n",
    "    game.play()\n",
    "    \n",
    "    turns = [player_.turns for player_ in all_players if player_ != player]\n",
    "    turn_avgs.append(sum(turns) / len(turns)) \n",
    "    if game.winner == player:\n",
    "        player_wins +=1\n",
    "print(player_wins)\n",
    "print(sum(turn_avgs)/len(turn_avgs))"
   ]
  },
  {
   "cell_type": "code",
   "execution_count": 12,
   "metadata": {},
   "outputs": [
    {
     "name": "stdout",
     "output_type": "stream",
     "text": [
      "359\n",
      "10.598799999999981\n"
     ]
    }
   ],
   "source": [
    "wins = defaultdict(int)\n",
    "turn_avgs = []\n",
    "player_turns = 4\n",
    "player_wins = 0\n",
    "for game in range(1000):\n",
    "    player = Player(player_turns)\n",
    "    other_players = [Player(random.randint(1,20)) for turns in range(10)] \n",
    "    all_players = other_players + [player]\n",
    "    random.shuffle(all_players)\n",
    "    game = Game(all_players,5000)\n",
    "    game.play()\n",
    "    \n",
    "    turns = [player_.turns for player_ in all_players if player_ != player]\n",
    "    turn_avgs.append(sum(turns) / len(turns)) \n",
    "    if game.winner == player:\n",
    "        player_wins +=1\n",
    "print(player_wins)\n",
    "print(sum(turn_avgs)/len(turn_avgs))"
   ]
  },
  {
   "cell_type": "code",
   "execution_count": 13,
   "metadata": {},
   "outputs": [
    {
     "name": "stdout",
     "output_type": "stream",
     "text": [
      "249\n",
      "10.4907\n"
     ]
    }
   ],
   "source": [
    "wins = defaultdict(int)\n",
    "turn_avgs = []\n",
    "player_turns = 2\n",
    "player_wins = 0\n",
    "for game in range(1000):\n",
    "    player = Player(player_turns)\n",
    "    other_players = [Player(random.randint(1,20)) for turns in range(10)] \n",
    "    all_players = other_players + [player]\n",
    "    random.shuffle(all_players)\n",
    "    game = Game(all_players,5000)\n",
    "    game.play()\n",
    "    \n",
    "    turns = [player_.turns for player_ in all_players if player_ != player]\n",
    "    turn_avgs.append(sum(turns) / len(turns)) \n",
    "    if game.winner == player:\n",
    "        player_wins +=1\n",
    "print(player_wins)\n",
    "print(sum(turn_avgs)/len(turn_avgs))"
   ]
  },
  {
   "cell_type": "code",
   "execution_count": null,
   "metadata": {},
   "outputs": [],
   "source": []
  }
 ],
 "metadata": {
  "kernelspec": {
   "display_name": "Python 3",
   "language": "python",
   "name": "python3"
  },
  "language_info": {
   "codemirror_mode": {
    "name": "ipython",
    "version": 3
   },
   "file_extension": ".py",
   "mimetype": "text/x-python",
   "name": "python",
   "nbconvert_exporter": "python",
   "pygments_lexer": "ipython3",
   "version": "3.8.5"
  }
 },
 "nbformat": 4,
 "nbformat_minor": 4
}
