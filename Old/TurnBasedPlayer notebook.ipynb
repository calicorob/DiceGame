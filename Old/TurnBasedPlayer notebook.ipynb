{
 "cells": [
  {
   "cell_type": "code",
   "execution_count": 1,
   "metadata": {},
   "outputs": [],
   "source": [
    "from collections import defaultdict\n",
    "from typing import List\n",
    "\n",
    "import matplotlib.pyplot as plt\n",
    "import random \n",
    "\n",
    "from dice import TurnBasedPlayer,Game"
   ]
  },
  {
   "cell_type": "code",
   "execution_count": 2,
   "metadata": {},
   "outputs": [],
   "source": [
    "num_players = 6\n",
    "num_games = 10000\n",
    "score_goal = 5000"
   ]
  },
  {
   "cell_type": "code",
   "execution_count": 3,
   "metadata": {},
   "outputs": [],
   "source": [
    "## without function"
   ]
  },
  {
   "cell_type": "code",
   "execution_count": 4,
   "metadata": {},
   "outputs": [
    {
     "name": "stdout",
     "output_type": "stream",
     "text": [
      "0.3461\n",
      "5.511879999999997\n"
     ]
    }
   ],
   "source": [
    "wins = 0\n",
    "player_avg_turns = []\n",
    "\n",
    "for i in range(num_games):\n",
    "    player_of_interest = TurnBasedPlayer(3)  ## magic number\n",
    "    players = [TurnBasedPlayer(random.randint(1,10)) for _ in range(num_players-1)] \n",
    "    player_avg_turns.append(sum([player.turns for player in players])/len(players))\n",
    "    players.append(player_of_interest)\n",
    "    random.shuffle(players)\n",
    "    game = Game(players,score_goal)\n",
    "    game.play()\n",
    "    \n",
    "    if game.winner == player_of_interest:\n",
    "        wins += 1\n",
    "        \n",
    "        \n",
    "wins = wins / num_games\n",
    "print(wins)\n",
    "print(sum(player_avg_turns)/len(player_avg_turns))"
   ]
  },
  {
   "cell_type": "code",
   "execution_count": 5,
   "metadata": {},
   "outputs": [],
   "source": [
    "def turn_based_simulation(player_of_interest_turns:int,num_players:int=6,num_games:int=10000,score_goal:int=5000,max_player_turns:int=10)->float:\n",
    "    wins = 0\n",
    "    player_avg_turns = []\n",
    "\n",
    "    for i in range(num_games):\n",
    "        player_of_interest = TurnBasedPlayer(player_of_interest_turns)  \n",
    "        players = [TurnBasedPlayer(random.randint(1,max_player_turns)) for _ in range(num_players-1)] \n",
    "        player_avg_turns.append(sum([player.turns for player in players])/len(players))\n",
    "        players.append(player_of_interest)\n",
    "        random.shuffle(players)\n",
    "        game = Game(players,score_goal)\n",
    "        game.play()\n",
    "\n",
    "        if game.winner == player_of_interest:\n",
    "            wins += 1\n",
    "\n",
    "\n",
    "    return wins / num_games,sum(player_avg_turns)/len(player_avg_turns)"
   ]
  },
  {
   "cell_type": "code",
   "execution_count": 6,
   "metadata": {},
   "outputs": [
    {
     "data": {
      "text/plain": [
       "(0.3451, 5.5038600000000075)"
      ]
     },
     "execution_count": 6,
     "metadata": {},
     "output_type": "execute_result"
    }
   ],
   "source": [
    "turn_based_simulation(3)"
   ]
  },
  {
   "cell_type": "code",
   "execution_count": 7,
   "metadata": {},
   "outputs": [],
   "source": [
    "def turn_based_simulations(turns_to_be_examined:List[int],num_players:int=6,num_games:int=10000,score_goal:int=5000,max_player_turns:int=10):\n",
    "    wins = defaultdict(int)\n",
    "    \n",
    "    for turn in turns_to_be_examined:\n",
    "        wins[turn] = turn_based_simulation(turn,num_players=num_players,num_games=num_games,score_goal=score_goal,max_player_turns=max_player_turns)\n",
    "        \n",
    "    \n",
    "    return wins\n",
    "    "
   ]
  },
  {
   "cell_type": "code",
   "execution_count": 10,
   "metadata": {},
   "outputs": [
    {
     "data": {
      "text/plain": [
       "defaultdict(int,\n",
       "            {1: (0.1936, 10.485880000000012),\n",
       "             2: (0.4733, 10.51311999999998),\n",
       "             3: (0.5494, 10.481099999999957),\n",
       "             4: (0.5164, 10.512280000000048),\n",
       "             5: (0.4405, 10.498),\n",
       "             6: (0.3507, 10.49500000000006),\n",
       "             7: (0.2566, 10.477959999999982),\n",
       "             8: (0.1852, 10.497659999999989),\n",
       "             9: (0.125, 10.466300000000007)})"
      ]
     },
     "execution_count": 10,
     "metadata": {},
     "output_type": "execute_result"
    }
   ],
   "source": [
    "wins = turn_based_simulations([turn for turn in range(1,10)],num_games=10000,max_player_turns=20)\n",
    "wins"
   ]
  },
  {
   "cell_type": "code",
   "execution_count": 13,
   "metadata": {},
   "outputs": [
    {
     "data": {
      "image/png": "[encoded data removed]",
      "text/plain": [
       "<Figure size 432x288 with 1 Axes>"
      ]
     },
     "metadata": {
      "needs_background": "light"
     },
     "output_type": "display_data"
    }
   ],
   "source": [
    "plt.scatter(x=wins.keys(),y=[value[0] for value in wins.values()],color='blue')\n",
    "plt.xlabel('Turns Taken',fontweight='bold')\n",
    "plt.ylabel('Win Percentage',fontweight='bold')\n",
    "plt.show()"
   ]
  },
  {
   "cell_type": "code",
   "execution_count": 14,
   "metadata": {},
   "outputs": [],
   "source": [
    "import csv \n",
    "with open('turnbasedresults.csv',mode='w',newline='') as file:\n",
    "    wr = csv.writer(file,delimiter = ',')\n",
    "    wr.writerow(['TurnsTaken','WinPercentage'])\n",
    "    for key, value in wins.items():\n",
    "        wr.writerow([key,value[0]])"
   ]
  },
  {
   "cell_type": "code",
   "execution_count": null,
   "metadata": {},
   "outputs": [],
   "source": []
  }
 ],
 "metadata": {
  "kernelspec": {
   "display_name": "Python 3",
   "language": "python",
   "name": "python3"
  },
  "language_info": {
   "codemirror_mode": {
    "name": "ipython",
    "version": 3
   },
   "file_extension": ".py",
   "mimetype": "text/x-python",
   "name": "python",
   "nbconvert_exporter": "python",
   "pygments_lexer": "ipython3",
   "version": "3.8.5"
  }
 },
 "nbformat": 4,
 "nbformat_minor": 4
}
