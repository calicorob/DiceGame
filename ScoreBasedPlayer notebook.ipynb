{
 "cells": [
  {
   "cell_type": "code",
   "execution_count": 1,
   "metadata": {},
   "outputs": [],
   "source": [
    "from collections import defaultdict\n",
    "from typing import List\n",
    "\n",
    "import matplotlib.pyplot as plt\n",
    "import random \n",
    "\n",
    "from dice import ScoreBasedPlayer,Game"
   ]
  },
  {
   "cell_type": "code",
   "execution_count": 2,
   "metadata": {},
   "outputs": [],
   "source": [
    "num_players = 6\n",
    "num_games = 10000\n",
    "score_goal = 5000"
   ]
  },
  {
   "cell_type": "code",
   "execution_count": 3,
   "metadata": {},
   "outputs": [],
   "source": [
    "## without function"
   ]
  },
  {
   "cell_type": "code",
   "execution_count": 4,
   "metadata": {},
   "outputs": [
    {
     "name": "stdout",
     "output_type": "stream",
     "text": [
      "0.2458\n",
      "249.756\n"
     ]
    }
   ],
   "source": [
    "wins = 0\n",
    "player_avg_scores = []\n",
    "possible_scores = [i for i in range(50,500,50)]\n",
    "\n",
    "for i in range(num_games):\n",
    "    player_of_interest = ScoreBasedPlayer(300)  ## magic number\n",
    "    players = [ScoreBasedPlayer(random.choice(possible_scores)) for _ in range(num_players-1)] \n",
    "    player_avg_scores.append(sum([player.min_score for player in players])/len(players))\n",
    "    players.append(player_of_interest)\n",
    "    random.shuffle(players)\n",
    "    game = Game(players,score_goal)\n",
    "    game.play()\n",
    "    \n",
    "    if game.winner == player_of_interest:\n",
    "        wins += 1\n",
    "        \n",
    "        \n",
    "wins = wins / num_games\n",
    "print(wins)\n",
    "print(sum(player_avg_scores)/len(player_avg_scores))"
   ]
  },
  {
   "cell_type": "code",
   "execution_count": 5,
   "metadata": {},
   "outputs": [],
   "source": [
    "def score_based_simulation(player_of_interest_score:int,num_players:int=6,num_games:int=10000,score_goal:int=5000,max_player_scores:int=500,score_step:int=50)->float:\n",
    "    wins = 0\n",
    "    player_avg_scores = []\n",
    "    possible_scores = [i for i in range(50,max_player_scores,score_step)]\n",
    "\n",
    "    for i in range(num_games):\n",
    "        player_of_interest = ScoreBasedPlayer(player_of_interest_score)  \n",
    "        players = [ScoreBasedPlayer(random.choice(possible_scores)) for _ in range(num_players-1)] \n",
    "        player_avg_scores.append(sum([player.min_score for player in players])/len(players))\n",
    "        players.append(player_of_interest)\n",
    "        random.shuffle(players)\n",
    "        game = Game(players,score_goal)\n",
    "        game.play()\n",
    "\n",
    "        if game.winner == player_of_interest:\n",
    "            wins += 1\n",
    "\n",
    "\n",
    "    return wins / num_games,sum(player_avg_scores)/len(player_avg_scores)"
   ]
  },
  {
   "cell_type": "code",
   "execution_count": 6,
   "metadata": {},
   "outputs": [
    {
     "data": {
      "text/plain": [
       "(0.2464, 249.638)"
      ]
     },
     "execution_count": 6,
     "metadata": {},
     "output_type": "execute_result"
    }
   ],
   "source": [
    "score_based_simulation(300)"
   ]
  },
  {
   "cell_type": "code",
   "execution_count": 7,
   "metadata": {},
   "outputs": [],
   "source": [
    "def turn_based_simulations(scores_to_be_examined:List[int],num_players:int=6,num_games:int=10000,score_goal:int=5000,max_player_scores:int=500,score_step:int=50):\n",
    "    wins = defaultdict(int)\n",
    "    \n",
    "    for score in scores_to_be_examined:\n",
    "        wins[score] = score_based_simulation(score,num_players=num_players,num_games=num_games,score_goal=score_goal,max_player_scores=max_player_scores,score_step=score_step)\n",
    "        \n",
    "    \n",
    "    return wins\n",
    "    "
   ]
  },
  {
   "cell_type": "code",
   "execution_count": 8,
   "metadata": {},
   "outputs": [
    {
     "data": {
      "text/plain": [
       "defaultdict(int,\n",
       "            {50: (0.0, 146.6),\n",
       "             100: (0.03, 146.6),\n",
       "             150: (0.15, 154.5),\n",
       "             200: (0.35, 153.4),\n",
       "             250: (0.33, 150.6),\n",
       "             300: (0.37, 153.0),\n",
       "             350: (0.38, 151.0),\n",
       "             400: (0.37, 143.6),\n",
       "             450: (0.37, 153.1),\n",
       "             500: (0.31, 149.0),\n",
       "             550: (0.23, 148.5),\n",
       "             600: (0.25, 149.8),\n",
       "             650: (0.24, 151.2),\n",
       "             700: (0.23, 149.6),\n",
       "             750: (0.18, 149.1),\n",
       "             800: (0.23, 146.9),\n",
       "             850: (0.18, 145.8),\n",
       "             900: (0.12, 149.9),\n",
       "             950: (0.07, 158.7)})"
      ]
     },
     "execution_count": 8,
     "metadata": {},
     "output_type": "execute_result"
    }
   ],
   "source": [
    "wins = turn_based_simulations([score for score in range(50,1000,50)],num_games=100,max_player_scores=300)\n",
    "wins"
   ]
  },
  {
   "cell_type": "code",
   "execution_count": 9,
   "metadata": {},
   "outputs": [
    {
     "data": {
      "image/png": "[encoded data removed]",
      "text/plain": [
       "<Figure size 432x288 with 1 Axes>"
      ]
     },
     "metadata": {
      "needs_background": "light"
     },
     "output_type": "display_data"
    }
   ],
   "source": [
    "plt.scatter(x=wins.keys(),y=[value[0] for value in wins.values()],color='blue')\n",
    "plt.xlabel('Score Taken',fontweight='bold')\n",
    "plt.ylabel('Win Percentage',fontweight='bold')\n",
    "plt.show()"
   ]
  },
  {
   "cell_type": "code",
   "execution_count": 10,
   "metadata": {},
   "outputs": [],
   "source": [
    "import csv \n",
    "with open('scorebasedresults.csv',mode='w',newline='') as file:\n",
    "    wr = csv.writer(file,delimiter = ',')\n",
    "    wr.writerow(['Score','WinPercentage'])\n",
    "    for key, value in wins.items():\n",
    "        wr.writerow([key,value[0]])"
   ]
  },
  {
   "cell_type": "code",
   "execution_count": null,
   "metadata": {},
   "outputs": [],
   "source": []
  }
 ],
 "metadata": {
  "kernelspec": {
   "display_name": "Python 3",
   "language": "python",
   "name": "python3"
  },
  "language_info": {
   "codemirror_mode": {
    "name": "ipython",
    "version": 3
   },
   "file_extension": ".py",
   "mimetype": "text/x-python",
   "name": "python",
   "nbconvert_exporter": "python",
   "pygments_lexer": "ipython3",
   "version": "3.8.5"
  }
 },
 "nbformat": 4,
 "nbformat_minor": 4
}
